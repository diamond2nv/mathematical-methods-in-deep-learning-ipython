{
 "cells": [
  {
   "cell_type": "code",
   "execution_count": 5,
   "metadata": {},
   "outputs": [
    {
     "name": "stdout",
     "output_type": "stream",
     "text": [
      "PyTorch version = 1.1.0\n",
      "tensor([0.1100, 0.0100, 0.9800, 0.1200, 0.9800, 0.8500, 0.0300, 0.5500, 0.4900,\n",
      "        0.9900, 0.0200, 0.3100, 0.5500, 0.8700, 0.6300], dtype=torch.float64)\n",
      "tensor([0.1100, 0.0100, 0.9800, 0.1200, 0.9800, 0.8500, 0.0300, 0.5500, 0.4900,\n",
      "        0.9900, 0.0200, 0.3100, 0.5500, 0.8700, 0.6300], dtype=torch.float64)\n",
      "tensor([0., 0., 0., 0., 0., 0., 0., 0., 0., 0., 0., 0., 0., 0., 0.],\n",
      "       dtype=torch.float64)\n",
      "[ 0.  0.  0.  0.  0.  0.  0.  0.  0.  0.  0.  0.  0.  0.  0.]\n"
     ]
    }
   ],
   "source": [
    "# Now we will do the same things with a different package (PyTorch).\n",
    "# Reader may need to install pyTorch to make this import work\n",
    "from __future__ import print_function\n",
    "import torch\n",
    "\n",
    "print(\"PyTorch version = {}\".format(torch.__version__))\n",
    "\n",
    "# A torch tensor represents a multi-dimensional array (element type\n",
    "# will be float by default, here we are forcing float64, aka double).\n",
    "# A vector is a special case (1D array). It can be initialized\n",
    "# directly by specifying the values.\n",
    "u = torch.tensor([0.11, 0.01, 0.98, 0.12, 0.98, 0.85, 0.03,\n",
    "                  0.55, 0.49, 0.99, 0.02, 0.31, 0.55, 0.87,\n",
    "                  0.63], dtype=torch.float64)\n",
    "\n",
    "# A torch tensor can also be initialized from a numpy array.\n",
    "# Here we will initialize a tensor v1 from the numpy array v \n",
    "# defined above.\n",
    "v1 = torch.from_numpy(v)\n",
    "\n",
    "# One can add subtract tensors. Here we do diff = v1 - u.\n",
    "# Since v1 and u contain the same values, their difference\n",
    "# is all zeros.\n",
    "diff = v1.sub(u)\n",
    "print(u)\n",
    "print(v1)\n",
    "print(diff)\n",
    "\n",
    "# torch tensors can be converted to numpy arrays too.\n",
    "u1 = u.numpy()\n",
    "print(u1 - v)"
   ]
  }
 ],
 "metadata": {
  "kernelspec": {
   "display_name": "Python 2",
   "language": "python",
   "name": "python2"
  },
  "language_info": {
   "codemirror_mode": {
    "name": "ipython",
    "version": 2
   },
   "file_extension": ".py",
   "mimetype": "text/x-python",
   "name": "python",
   "nbconvert_exporter": "python",
   "pygments_lexer": "ipython2",
   "version": "2.7.12"
  }
 },
 "nbformat": 4,
 "nbformat_minor": 2
}
