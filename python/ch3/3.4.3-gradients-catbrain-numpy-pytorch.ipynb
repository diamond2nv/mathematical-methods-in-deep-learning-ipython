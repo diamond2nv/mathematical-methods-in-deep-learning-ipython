{
 "cells": [
  {
   "cell_type": "code",
   "execution_count": 1,
   "metadata": {},
   "outputs": [
    {
     "name": "stdout",
     "output_type": "stream",
     "text": [
      "1.16.5\n",
      "1.2.0\n"
     ]
    }
   ],
   "source": [
    "import numpy as np\n",
    "print(np.__version__)\n",
    "import torch\n",
    "print(torch.__version__)\n",
    "import matplotlib.pyplot as plt"
   ]
  },
  {
   "cell_type": "code",
   "execution_count": 2,
   "metadata": {},
   "outputs": [
    {
     "name": "stdout",
     "output_type": "stream",
     "text": [
      "Solution via pseudo inverse: [ 1.07661761  0.89761672 -0.95816936]\n",
      "Loss at step 0: 7.61608799717\n",
      "Loss at step 100: 0.221427901345\n",
      "Loss at step 200: 0.217251175389\n",
      "Loss at step 300: 0.217236373635\n",
      "Loss at step 400: 0.217236131551\n",
      "Loss at step 500: 0.217236126915\n",
      "Loss at step 600: 0.217236126826\n",
      "Loss at step 700: 0.217236126824\n",
      "Loss at step 800: 0.217236126824\n",
      "Loss at step 900: 0.217236126824\n",
      "The solution via gradient descent is [ 1.07661761  0.89761672 -0.95816936]\n"
     ]
    }
   ],
   "source": [
    "A = np.array([[0.11, 0.09], [0.01, 0.02], [0.98, 0.91],\n",
    "              [0.12, 0.21], [0.98, 0.99], [0.85, 0.87],\n",
    "              [0.03, 0.14], [0.55, 0.45], [0.49, 0.51], \n",
    "              [0.99, 0.01], [0.02, 0.89], [0.31, 0.47],\n",
    "              [0.55, 0.29], [0.87, 0.76], [0.63, 0.24]])\n",
    "A = np.column_stack((A, np.ones(15))) \n",
    "b = np.array([-0.8, -0.97, 0.89, -0.67, 0.97, 0.72,\n",
    "              -0.83, 0.00, 0.00, 0.00, -0.09, -0.22, \n",
    "              -0.16, 0.63, 0.37])\n",
    "\n",
    "# Let us compute solution using pseudo inverse\n",
    "solution_pseudo = np.matmul(np.matmul(\n",
    "    np.linalg.inv(np.matmul(A.T, A)), A.T) , b)\n",
    "print(\"Solution via pseudo inverse: {}\".format(solution_pseudo)) \n",
    "\n",
    "\n",
    "b = b.reshape((-1, 1))\n",
    "A = torch.from_numpy(A)\n",
    "b = torch.from_numpy(b)\n",
    "\n",
    "# Let us define the torch module\n",
    "class LinearModel(torch.nn.Module):\n",
    "    def __init__(self, num_features):\n",
    "        super(LinearModel, self).__init__()\n",
    "        self.x = torch.nn.Parameter(\n",
    "            torch.rand(num_features, 1).type('torch.DoubleTensor'))\n",
    "    \n",
    "    def forward(self, A):\n",
    "        \"\"\"\n",
    "        In the forward function we accept a Tensor of input data \n",
    "        and we must return a Tensor of output data. \n",
    "        We can use Modules defined in the constructor as\n",
    "        well as arbitrary operators on Tensors.\n",
    "        \"\"\"\n",
    "        y_pred  = torch.mm(A, self.x) # Computes Ax\n",
    "        return y_pred\n",
    "\n",
    "num_unknowns = 3\n",
    "model =  LinearModel(num_features=num_unknowns)\n",
    "# Let us use  Pytorch MSE loss function\n",
    "loss_fn = torch.nn.MSELoss(reduction='sum')\n",
    "optimizer = torch.optim.SGD(model.parameters(), lr=1e-2)\n",
    "\n",
    "# Train model iteratively\n",
    "num_steps = 1000\n",
    "for step in range(num_steps):\n",
    "    b_pred = model(A)\n",
    "    loss = loss_fn(b_pred, b)\n",
    "    if step % 100 == 0:\n",
    "        print(\"Loss at step {}: {}\".format(step, loss))\n",
    "    \n",
    "    # Zero the gradients before running the backward pass.\n",
    "    optimizer.zero_grad()\n",
    "    # Compute the gradients for this step\n",
    "    loss.backward()\n",
    "    # Gradient descent\n",
    "    optimizer.step()\n",
    "\n",
    "solution_gd = np.squeeze(model.x.data.numpy())\n",
    "print(\"The solution via gradient descent is {}\".format(solution_gd))\n",
    "\n",
    "assert np.allclose(solution_pseudo, solution_gd)\n"
   ]
  }
 ],
 "metadata": {
  "kernelspec": {
   "display_name": "Python 2",
   "language": "python",
   "name": "python2"
  },
  "language_info": {
   "codemirror_mode": {
    "name": "ipython",
    "version": 2
   },
   "file_extension": ".py",
   "mimetype": "text/x-python",
   "name": "python",
   "nbconvert_exporter": "python",
   "pygments_lexer": "ipython2",
   "version": "2.7.10"
  }
 },
 "nbformat": 4,
 "nbformat_minor": 2
}
