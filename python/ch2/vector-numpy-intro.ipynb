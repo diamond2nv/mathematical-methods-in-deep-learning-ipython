{
 "cells": [
  {
   "cell_type": "code",
   "execution_count": 2,
   "metadata": {},
   "outputs": [
    {
     "name": "stdout",
     "output_type": "stream",
     "text": [
      "python version = 2.7.12 (default, Aug 22 2019, 16:36:40) \n",
      "[GCC 5.4.0 20160609]\n",
      "numpy version = 1.12.0\n",
      "first element = 0.11 third_element = 0.98\n",
      "last_element = 0.63 second_last_element = 0.87\n",
      "second_to_fifth_elements: [ 0.01  0.98  0.12]\n",
      "first_to_third_elements: [ 0.11  0.01]  Last two elements: [ 0.87  0.63]\n",
      "Number of elements in v: 15\n"
     ]
    }
   ],
   "source": [
    "# Reader may need to install numpy to make the\n",
    "# import statement work.\n",
    "import numpy as np\n",
    "import sys\n",
    "print(\"python version = {}\\nnumpy version = {}\".format(sys.version,\n",
    "                                                       np.__version__))\n",
    "\n",
    "# A vector is an 1-dimensional array of numbers.\n",
    "# E.g., input hardness vector of our cat brain model\n",
    "v = np.array([0.11, 0.01, 0.98, 0.12, 0.98, 0.85, 0.03,\n",
    "              0.55, 0.49, 0.99, 0.02, 0.31, 0.55, 0.87,\n",
    "              0.63])\n",
    "\n",
    "# Individual elements of the vector can be accessed through\n",
    "# the square bracket operator with indices of the desired\n",
    "# element  within thosesquare brackets.\n",
    "# Index starts from zero, not one.\n",
    "first_element = v[0]\n",
    "third_element = v[2]\n",
    "print(\"first element = {} third_element = {}\".\\\n",
    "      format(first_element, third_element))\n",
    "\n",
    "# Negative indices are to be counted from the end of array.\n",
    "# E.g., -1 refers to the last array element.\n",
    "#       -2 refers to the second from last element.\n",
    "last_element = v[-1]\n",
    "second_last_element = v[-2]\n",
    "print(\"last_element = {} second_last_element = {}\".\\\n",
    "      format(last_element, second_last_element))\n",
    "\n",
    "# A range of elements can be sliced off a vector using the\n",
    "# colon operator\n",
    "second_to_fifth_elements = v[1:4]\n",
    "print(\"second_to_fifth_elements: {}\".format(second_to_fifth_elements))\n",
    "\n",
    "# If nothing is specified on the left of the arrow, it implies beginning\n",
    "# of array.\n",
    "# If nothing is specified after the  colon it implies end of array.\n",
    "first_to_third_elements = v[:2]\n",
    "last_two_elements = v[-2:]\n",
    "print(\"first_to_third_elements: {}  Last two elements: {}\".\\\n",
    "      format(first_to_third_elements, last_two_elements))\n",
    "\n",
    "# Size of the vector\n",
    "num_elements_in_v = len(v)\n",
    "print(\"Number of elements in v: {}\".format(num_elements_in_v))"
   ]
  }
 ],
 "metadata": {
  "kernelspec": {
   "display_name": "Python 2",
   "language": "python",
   "name": "python2"
  },
  "language_info": {
   "codemirror_mode": {
    "name": "ipython",
    "version": 2
   },
   "file_extension": ".py",
   "mimetype": "text/x-python",
   "name": "python",
   "nbconvert_exporter": "python",
   "pygments_lexer": "ipython2",
   "version": "2.7.12"
  }
 },
 "nbformat": 4,
 "nbformat_minor": 2
}
