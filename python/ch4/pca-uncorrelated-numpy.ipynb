{
 "cells": [
  {
   "cell_type": "code",
   "execution_count": 1,
   "metadata": {},
   "outputs": [
    {
     "name": "stdout",
     "output_type": "stream",
     "text": [
      "1.12.0\n"
     ]
    }
   ],
   "source": [
    "import numpy as np\n",
    "print np.__version__\n",
    "import matplotlib.pyplot as plt"
   ]
  },
  {
   "cell_type": "code",
   "execution_count": 2,
   "metadata": {},
   "outputs": [],
   "source": [
    "%run common.ipynb"
   ]
  },
  {
   "cell_type": "code",
   "execution_count": 3,
   "metadata": {},
   "outputs": [
    {
     "name": "stdout",
     "output_type": "stream",
     "text": [
      "Principal values are [  8348.79940518  13162.68537655]\n"
     ]
    },
    {
     "data": {
      "image/png": "[encoded data removed]",
      "text/plain": [
       "<matplotlib.figure.Figure at 0x7f7afd1e8d10>"
      ]
     },
     "metadata": {
      "needs_background": "light"
     },
     "output_type": "display_data"
    },
    {
     "name": "stdout",
     "output_type": "stream",
     "text": [
      "Loss in Information due to\n",
      "dimensionality reduction: 64.3094159961\n",
      "(high - we're losing real info)\n"
     ]
    }
   ],
   "source": [
    "# Let us now try a similar experiment with\n",
    "# uncorrelated data \n",
    "N = 100\n",
    "x_0 = np.random.normal(0, 100, N)\n",
    "x_1 = np.random.normal(0, 100, N)\n",
    "X = np.column_stack((x_0, x_1))\n",
    "\n",
    "# Perform PCA\n",
    "# Note that principal values are close to\n",
    "# each other - the spread is comparable in both\n",
    "# directions.\n",
    "principal_values, principal_components = pca(X)\n",
    "print (\"Principal values are {}\".\\\n",
    "       format(principal_values))\n",
    "\n",
    "# Find the index with highest principal value\n",
    "major_index = np.argmax(principal_values)\n",
    "minor_index = np.argmin(principal_values)\n",
    "\n",
    "# Plot\n",
    "plt.figure()\n",
    "plt.scatter(X[:, 0], X[: , 1],\n",
    "            color=\"green\")\n",
    "plt.title('Uncorrelated dataset')\n",
    "plt.xlabel('x0')\n",
    "plt.ylabel('x1')\n",
    "\n",
    "# Let us plot the principal components\n",
    "draw_line(principal_components[:, major_index],\n",
    "          min_x=-200, max_x=200)\n",
    "draw_line(principal_components[:, minor_index],\n",
    "          min_x=-150, max_x=150, color=\"red\")\n",
    "plt.show()\n",
    "\n",
    "first_principal_vec = principal_components[:,\n",
    "                                           major_index]\n",
    "first_principal_vec = first_principal_vec.reshape((-1,\n",
    "                                                   1))\n",
    "X_proj = np.dot(X, first_principal_vec)\n",
    "\n",
    "# Information lost due to dimensionality reduction.\n",
    "# (here we've lost real info)\n",
    "X_back_proj = np.dot(X_proj,\n",
    "                     np.linalg.pinv(first_principal_vec))\n",
    "info_loss = np.sqrt(np.mean((X_back_proj - X)**2))\n",
    "print(\"Loss in Information due to\\ndimensionality\"\n",
    "      \" reduction: {}\\n(high - we're \"\n",
    "      \"losing real info)\".format(info_loss))"
   ]
  }
 ],
 "metadata": {
  "kernelspec": {
   "display_name": "Python 2",
   "language": "python",
   "name": "python2"
  },
  "language_info": {
   "codemirror_mode": {
    "name": "ipython",
    "version": 2
   },
   "file_extension": ".py",
   "mimetype": "text/x-python",
   "name": "python",
   "nbconvert_exporter": "python",
   "pygments_lexer": "ipython2",
   "version": "2.7.12"
  }
 },
 "nbformat": 4,
 "nbformat_minor": 2
}
